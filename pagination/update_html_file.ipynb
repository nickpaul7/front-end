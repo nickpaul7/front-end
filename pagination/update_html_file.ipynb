{
 "cells": [
  {
   "cell_type": "code",
   "execution_count": 189,
   "id": "sustained-techno",
   "metadata": {},
   "outputs": [],
   "source": [
    "import pandas as pd\n",
    "import requests"
   ]
  },
  {
   "cell_type": "code",
   "execution_count": 197,
   "id": "moved-italy",
   "metadata": {},
   "outputs": [
    {
     "data": {
      "text/plain": [
       "'\\n\\n\\n\\n<!DOCTYPE html>\\n<html lang=\"en\">\\n  \\n  <head>\\n '"
      ]
     },
     "execution_count": 197,
     "metadata": {},
     "output_type": "execute_result"
    }
   ],
   "source": [
    "# Basic\n",
    "input_file = \"index_with_vars.html\"\n",
    "# Add Stats\n",
    "input_file = \"index_vars_bokeh.html\"\n",
    "with open(input_file, encoding=\"utf8\") as f:\n",
    "    html_file_raw = f.read()\n",
    "html_file_raw[:50]"
   ]
  },
  {
   "cell_type": "code",
   "execution_count": 191,
   "id": "tutorial-forum",
   "metadata": {},
   "outputs": [],
   "source": [
    "url_dict = {'urls':[\"https://www.york.ac.uk/teaching/cws/wws/webpage1.html\",\n",
    "                    \"https://www.york.ac.uk/teaching/cws/wws/webpage2.html\",\n",
    "                    \"https://www.york.ac.uk/teaching/cws/wws/webpage3.html\"]}"
   ]
  },
  {
   "cell_type": "code",
   "execution_count": 192,
   "id": "banned-burton",
   "metadata": {},
   "outputs": [],
   "source": [
    "df = (pd.DataFrame(url_dict)\n",
    "      .assign(text = lambda df: [requests.get(url).text \n",
    "                                 for url in df['urls']]\n",
    "             )\n",
    "     )"
   ]
  },
  {
   "cell_type": "code",
   "execution_count": 193,
   "id": "solar-promise",
   "metadata": {},
   "outputs": [
    {
     "data": {
      "text/html": [
       "<div>\n",
       "<style scoped>\n",
       "    .dataframe tbody tr th:only-of-type {\n",
       "        vertical-align: middle;\n",
       "    }\n",
       "\n",
       "    .dataframe tbody tr th {\n",
       "        vertical-align: top;\n",
       "    }\n",
       "\n",
       "    .dataframe thead th {\n",
       "        text-align: right;\n",
       "    }\n",
       "</style>\n",
       "<table border=\"1\" class=\"dataframe\">\n",
       "  <thead>\n",
       "    <tr style=\"text-align: right;\">\n",
       "      <th></th>\n",
       "      <th>urls</th>\n",
       "      <th>text</th>\n",
       "    </tr>\n",
       "  </thead>\n",
       "  <tbody>\n",
       "    <tr>\n",
       "      <th>0</th>\n",
       "      <td>https://www.york.ac.uk/teaching/cws/wws/webpag...</td>\n",
       "      <td>&lt;HMTL&gt;\\n&lt;HEAD&gt;\\n&lt;TITLE&gt;webpage1&lt;/TITLE&gt;\\n&lt;/HEA...</td>\n",
       "    </tr>\n",
       "    <tr>\n",
       "      <th>1</th>\n",
       "      <td>https://www.york.ac.uk/teaching/cws/wws/webpag...</td>\n",
       "      <td>&lt;HMTL&gt;\\n&lt;HEAD&gt;\\n&lt;TITLE&gt;webpage2&lt;/TITLE&gt;\\n&lt;/HEA...</td>\n",
       "    </tr>\n",
       "    <tr>\n",
       "      <th>2</th>\n",
       "      <td>https://www.york.ac.uk/teaching/cws/wws/webpag...</td>\n",
       "      <td>&lt;HMTL&gt;\\n&lt;HEAD&gt;\\n&lt;TITLE&gt;webpage3&lt;/TITLE&gt;\\n \\n&lt;/...</td>\n",
       "    </tr>\n",
       "  </tbody>\n",
       "</table>\n",
       "</div>"
      ],
      "text/plain": [
       "                                                urls  \\\n",
       "0  https://www.york.ac.uk/teaching/cws/wws/webpag...   \n",
       "1  https://www.york.ac.uk/teaching/cws/wws/webpag...   \n",
       "2  https://www.york.ac.uk/teaching/cws/wws/webpag...   \n",
       "\n",
       "                                                text  \n",
       "0  <HMTL>\\n<HEAD>\\n<TITLE>webpage1</TITLE>\\n</HEA...  \n",
       "1  <HMTL>\\n<HEAD>\\n<TITLE>webpage2</TITLE>\\n</HEA...  \n",
       "2  <HMTL>\\n<HEAD>\\n<TITLE>webpage3</TITLE>\\n \\n</...  "
      ]
     },
     "execution_count": 193,
     "metadata": {},
     "output_type": "execute_result"
    }
   ],
   "source": [
    "df"
   ]
  },
  {
   "cell_type": "code",
   "execution_count": 196,
   "id": "linear-yield",
   "metadata": {},
   "outputs": [
    {
     "data": {
      "text/plain": [
       "'[`<HMTL>\\n<HEAD>\\n<TITLE>webpage1</TITLE>\\n</HEAD>\\n<B'"
      ]
     },
     "execution_count": 196,
     "metadata": {},
     "output_type": "execute_result"
    }
   ],
   "source": [
    "x = df['text']\n",
    "reports = \"[`\" + \"`, `\".join(x) + \"`]\"\n",
    "reports[:50]"
   ]
  },
  {
   "cell_type": "code",
   "execution_count": 185,
   "id": "afraid-oklahoma",
   "metadata": {},
   "outputs": [
    {
     "name": "stdout",
     "output_type": "stream",
     "text": [
      "3\n"
     ]
    }
   ],
   "source": [
    "num_reports = str(df.shape[0])\n",
    "print(num_reports)\n"
   ]
  },
  {
   "cell_type": "code",
   "execution_count": 198,
   "id": "blocked-exemption",
   "metadata": {
    "scrolled": true
   },
   "outputs": [
    {
     "data": {
      "text/plain": [
       "'\\n\\n\\n\\n<!DOCTYPE html>\\n<html lang=\"en\">\\n  \\n  <head>\\n '"
      ]
     },
     "execution_count": 198,
     "metadata": {},
     "output_type": "execute_result"
    }
   ],
   "source": [
    "html_file = (html_file_raw\n",
    "             .replace(\"##pages\", num_reports)\n",
    "             .replace(\"##reports\", reports))\n",
    "html_file[:50]"
   ]
  },
  {
   "cell_type": "code",
   "execution_count": 187,
   "id": "answering-pavilion",
   "metadata": {},
   "outputs": [],
   "source": [
    "with open(\"index_output.html\", \"w\") as f:\n",
    "    f.write(html_file)"
   ]
  }
 ],
 "metadata": {
  "kernelspec": {
   "display_name": "Python 3",
   "language": "python",
   "name": "python3"
  },
  "language_info": {
   "codemirror_mode": {
    "name": "ipython",
    "version": 3
   },
   "file_extension": ".py",
   "mimetype": "text/x-python",
   "name": "python",
   "nbconvert_exporter": "python",
   "pygments_lexer": "ipython3",
   "version": "3.8.5"
  }
 },
 "nbformat": 4,
 "nbformat_minor": 5
}
